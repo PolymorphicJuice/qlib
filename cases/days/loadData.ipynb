{
 "cells": [
  {
   "cell_type": "code",
   "execution_count": 5,
   "metadata": {},
   "outputs": [
    {
     "name": "stderr",
     "output_type": "stream",
     "text": [
      "\u001b[32m2024-08-11 17:36:43.481\u001b[0m | \u001b[33m\u001b[1mWARNING \u001b[0m | \u001b[36mqlib.tests.data\u001b[0m:\u001b[36mdownload\u001b[0m:\u001b[36m62\u001b[0m - \u001b[33m\u001b[1mThe data for the example is collected from Yahoo Finance. Please be aware that the quality of the data might not be perfect. (You can refer to the original data source: https://finance.yahoo.com/lookup.)\u001b[0m\n",
      "\u001b[32m2024-08-11 17:36:43.482\u001b[0m | \u001b[1mINFO    \u001b[0m | \u001b[36mqlib.tests.data\u001b[0m:\u001b[36mdownload\u001b[0m:\u001b[36m65\u001b[0m - \u001b[1m20240811173641_qlib_data_cn_1d_latest.zip downloading......\u001b[0m\n",
      "196549632it [02:03, 1592718.76it/s]                                \n",
      "\u001b[32m2024-08-11 17:38:46.892\u001b[0m | \u001b[33m\u001b[1mWARNING \u001b[0m | \u001b[36mqlib.tests.data\u001b[0m:\u001b[36m_unzip\u001b[0m:\u001b[36m124\u001b[0m - \u001b[33m\u001b[1mwill delete the old qlib data directory(features, instruments, calendars, features_cache, dataset_cache): C:\\Users\\EZ\\.qlib\\qlib_data\\cn_data\u001b[0m\n",
      "\u001b[32m2024-08-11 17:40:46.145\u001b[0m | \u001b[33m\u001b[1mWARNING \u001b[0m | \u001b[36mqlib.tests.data\u001b[0m:\u001b[36m_delete_qlib_data\u001b[0m:\u001b[36m150\u001b[0m - \u001b[33m\u001b[1mdelete: C:\\Users\\EZ\\.qlib\\qlib_data\\cn_data\\features\u001b[0m\n",
      "\u001b[32m2024-08-11 17:40:50.912\u001b[0m | \u001b[33m\u001b[1mWARNING \u001b[0m | \u001b[36mqlib.tests.data\u001b[0m:\u001b[36m_delete_qlib_data\u001b[0m:\u001b[36m150\u001b[0m - \u001b[33m\u001b[1mdelete: C:\\Users\\EZ\\.qlib\\qlib_data\\cn_data\\calendars\u001b[0m\n",
      "\u001b[32m2024-08-11 17:40:50.913\u001b[0m | \u001b[33m\u001b[1mWARNING \u001b[0m | \u001b[36mqlib.tests.data\u001b[0m:\u001b[36m_delete_qlib_data\u001b[0m:\u001b[36m150\u001b[0m - \u001b[33m\u001b[1mdelete: C:\\Users\\EZ\\.qlib\\qlib_data\\cn_data\\instruments\u001b[0m\n",
      "\u001b[32m2024-08-11 17:40:50.915\u001b[0m | \u001b[1mINFO    \u001b[0m | \u001b[36mqlib.tests.data\u001b[0m:\u001b[36m_unzip\u001b[0m:\u001b[36m128\u001b[0m - \u001b[1mC:\\Users\\EZ\\.qlib\\qlib_data\\cn_data\\20240811173641_qlib_data_cn_1d_latest.zip unzipping......\u001b[0m\n",
      "100%|██████████| 31008/31008 [00:14<00:00, 2187.52it/s]\n"
     ]
    }
   ],
   "source": [
    "from qlib.tests.data import GetData\n",
    "\n",
    "GetData().qlib_data(version='v2',exists_skip=True)"
   ]
  },
  {
   "cell_type": "code",
   "execution_count": 4,
   "metadata": {},
   "outputs": [
    {
     "name": "stderr",
     "output_type": "stream",
     "text": [
      "[29184:MainThread](2024-08-11 17:47:29,374) INFO - qlib.Initialization - [config.py:416] - default_conf: client.\n",
      "[29184:MainThread](2024-08-11 17:47:30,038) INFO - qlib.Initialization - [__init__.py:74] - qlib successfully initialized based on client settings.\n",
      "[29184:MainThread](2024-08-11 17:47:30,039) INFO - qlib.Initialization - [__init__.py:76] - data_path={'__DEFAULT_FREQ': WindowsPath('C:/Users/EZ/.qlib/qlib_data/cn_data')}\n"
     ]
    },
    {
     "name": "stdout",
     "output_type": "stream",
     "text": [
      "[Timestamp('2010-01-04 00:00:00') Timestamp('2010-01-05 00:00:00')\n",
      " Timestamp('2010-01-06 00:00:00') ... Timestamp('2020-09-23 00:00:00')\n",
      " Timestamp('2020-09-24 00:00:00') Timestamp('2020-09-25 00:00:00')]\n"
     ]
    }
   ],
   "source": [
    "import qlib\n",
    "from qlib.data import D\n",
    "\n",
    "qlib.init()\n",
    "print(D.calendar(start_time=\"2010-01-01\", end_time=\"2024-12-31\", freq=\"day\")[:])  # calendar data"
   ]
  }
 ],
 "metadata": {
  "kernelspec": {
   "display_name": "qlib",
   "language": "python",
   "name": "python3"
  },
  "language_info": {
   "codemirror_mode": {
    "name": "ipython",
    "version": 3
   },
   "file_extension": ".py",
   "mimetype": "text/x-python",
   "name": "python",
   "nbconvert_exporter": "python",
   "pygments_lexer": "ipython3",
   "version": "3.8.19"
  }
 },
 "nbformat": 4,
 "nbformat_minor": 2
}
